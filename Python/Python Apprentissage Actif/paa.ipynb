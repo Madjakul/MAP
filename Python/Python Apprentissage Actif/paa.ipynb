{
 "metadata": {
  "language_info": {
   "codemirror_mode": {
    "name": "ipython",
    "version": 3
   },
   "file_extension": ".py",
   "mimetype": "text/x-python",
   "name": "python",
   "nbconvert_exporter": "python",
   "pygments_lexer": "ipython3",
   "version": "3.8.5"
  },
  "orig_nbformat": 4,
  "kernelspec": {
   "name": ".venv_mappaa",
   "display_name": "Python 3.8.5 64-bit"
  }
 },
 "nbformat": 4,
 "nbformat_minor": 2,
 "cells": [
  {
   "source": [
    "# Variables, Nombres et Fonctions"
   ],
   "cell_type": "markdown",
   "metadata": {}
  },
  {
   "source": [
    "## Qu'est-ce qu'une fonction recursive ?"
   ],
   "cell_type": "markdown",
   "metadata": {}
  },
  {
   "source": [
    "Une fonction $f$ est programmable récursivement si - ou par récurrence - si, en\n",
    "notant $x$ un point quelconque du domaine $f$ :\n",
    "- On sait réduire le calcul $f(x)$ au calcul en un autre point $f'(x)$.\n",
    "- Le passage de $x$ à $x'$ finit par converger vers un point $x_{0}$ sur lequel on sait\n",
    "calculer la valeur de $f(x_{0})$ de $f$. $x_{0}$ est alors un cas de base de la récurrence."
   ],
   "cell_type": "markdown",
   "metadata": {}
  },
  {
   "source": [
    "L'exemple le plus simple est la factorielle $n!$ qui renvoie le produit des entiers de 1 à $n$."
   ],
   "cell_type": "markdown",
   "metadata": {}
  },
  {
   "cell_type": "code",
   "execution_count": 1,
   "metadata": {},
   "outputs": [
    {
     "output_type": "execute_result",
     "data": {
      "text/plain": [
       "120"
      ]
     },
     "metadata": {},
     "execution_count": 1
    }
   ],
   "source": [
    "from math import factorial\n",
    "factorial(5) "
   ]
  },
  {
   "cell_type": "code",
   "execution_count": 2,
   "metadata": {},
   "outputs": [
    {
     "output_type": "execute_result",
     "data": {
      "text/plain": [
       "35660"
      ]
     },
     "metadata": {},
     "execution_count": 2
    }
   ],
   "source": [
    "len(str(factorial(10000)))"
   ]
  },
  {
   "cell_type": "code",
   "execution_count": 3,
   "metadata": {},
   "outputs": [],
   "source": [
    "def fac(n):\n",
    "    if n == 0: return 1\n",
    "    return n * fac(n - 1) # else est sous-entendu ici"
   ]
  },
  {
   "cell_type": "code",
   "execution_count": 4,
   "metadata": {},
   "outputs": [
    {
     "output_type": "execute_result",
     "data": {
      "text/plain": [
       "120"
      ]
     },
     "metadata": {},
     "execution_count": 4
    }
   ],
   "source": [
    "fac(5)"
   ]
  },
  {
   "cell_type": "code",
   "execution_count": 5,
   "metadata": {},
   "outputs": [
    {
     "output_type": "error",
     "ename": "RecursionError",
     "evalue": "maximum recursion depth exceeded in comparison",
     "traceback": [
      "\u001b[0;31m---------------------------------------------------------------------------\u001b[0m",
      "\u001b[0;31mRecursionError\u001b[0m                            Traceback (most recent call last)",
      "\u001b[0;32m<ipython-input-5-9decce1c9680>\u001b[0m in \u001b[0;36m<module>\u001b[0;34m\u001b[0m\n\u001b[0;32m----> 1\u001b[0;31m \u001b[0mfac\u001b[0m\u001b[0;34m(\u001b[0m\u001b[0;36m3000\u001b[0m\u001b[0;34m)\u001b[0m\u001b[0;34m\u001b[0m\u001b[0;34m\u001b[0m\u001b[0m\n\u001b[0m",
      "\u001b[0;32m<ipython-input-3-01e9c1b6a527>\u001b[0m in \u001b[0;36mfac\u001b[0;34m(n)\u001b[0m\n\u001b[1;32m      1\u001b[0m \u001b[0;32mdef\u001b[0m \u001b[0mfac\u001b[0m\u001b[0;34m(\u001b[0m\u001b[0mn\u001b[0m\u001b[0;34m)\u001b[0m\u001b[0;34m:\u001b[0m\u001b[0;34m\u001b[0m\u001b[0;34m\u001b[0m\u001b[0m\n\u001b[1;32m      2\u001b[0m     \u001b[0;32mif\u001b[0m \u001b[0mn\u001b[0m \u001b[0;34m==\u001b[0m \u001b[0;36m0\u001b[0m\u001b[0;34m:\u001b[0m \u001b[0;32mreturn\u001b[0m \u001b[0;36m1\u001b[0m\u001b[0;34m\u001b[0m\u001b[0;34m\u001b[0m\u001b[0m\n\u001b[0;32m----> 3\u001b[0;31m     \u001b[0;32mreturn\u001b[0m \u001b[0mn\u001b[0m \u001b[0;34m*\u001b[0m \u001b[0mfac\u001b[0m\u001b[0;34m(\u001b[0m\u001b[0mn\u001b[0m \u001b[0;34m-\u001b[0m \u001b[0;36m1\u001b[0m\u001b[0;34m)\u001b[0m \u001b[0;31m# else est sous-entendu ici\u001b[0m\u001b[0;34m\u001b[0m\u001b[0;34m\u001b[0m\u001b[0m\n\u001b[0m",
      "... last 1 frames repeated, from the frame below ...\n",
      "\u001b[0;32m<ipython-input-3-01e9c1b6a527>\u001b[0m in \u001b[0;36mfac\u001b[0;34m(n)\u001b[0m\n\u001b[1;32m      1\u001b[0m \u001b[0;32mdef\u001b[0m \u001b[0mfac\u001b[0m\u001b[0;34m(\u001b[0m\u001b[0mn\u001b[0m\u001b[0;34m)\u001b[0m\u001b[0;34m:\u001b[0m\u001b[0;34m\u001b[0m\u001b[0;34m\u001b[0m\u001b[0m\n\u001b[1;32m      2\u001b[0m     \u001b[0;32mif\u001b[0m \u001b[0mn\u001b[0m \u001b[0;34m==\u001b[0m \u001b[0;36m0\u001b[0m\u001b[0;34m:\u001b[0m \u001b[0;32mreturn\u001b[0m \u001b[0;36m1\u001b[0m\u001b[0;34m\u001b[0m\u001b[0;34m\u001b[0m\u001b[0m\n\u001b[0;32m----> 3\u001b[0;31m     \u001b[0;32mreturn\u001b[0m \u001b[0mn\u001b[0m \u001b[0;34m*\u001b[0m \u001b[0mfac\u001b[0m\u001b[0;34m(\u001b[0m\u001b[0mn\u001b[0m \u001b[0;34m-\u001b[0m \u001b[0;36m1\u001b[0m\u001b[0;34m)\u001b[0m \u001b[0;31m# else est sous-entendu ici\u001b[0m\u001b[0;34m\u001b[0m\u001b[0;34m\u001b[0m\u001b[0m\n\u001b[0m",
      "\u001b[0;31mRecursionError\u001b[0m: maximum recursion depth exceeded in comparison"
     ]
    }
   ],
   "source": [
    "fac(3000)"
   ]
  },
  {
   "source": [
    "Dans ce cas et en l'absence de fonction `factorial`, on peut ou bien programmer de façon itérative ou bien augmenter la hauteur maximale de la pile de récursion."
   ],
   "cell_type": "markdown",
   "metadata": {}
  },
  {
   "cell_type": "code",
   "execution_count": 6,
   "metadata": {},
   "outputs": [
    {
     "output_type": "execute_result",
     "data": {
      "text/plain": [
       "9131"
      ]
     },
     "metadata": {},
     "execution_count": 6
    }
   ],
   "source": [
    "from sys import setrecursionlimit\n",
    "\n",
    "setrecursionlimit(3100)\n",
    "len(str(fac(3000)))"
   ]
  },
  {
   "source": [
    "### Suivre une fonction à la trace"
   ],
   "cell_type": "markdown",
   "metadata": {}
  },
  {
   "source": [
    "def trace(f):\n",
    "    m = 0\n",
    "    def f_trace(*args):\n",
    "        nonlocal m\n",
    "        marge = m * \" \"\n",
    "        print(f\"{marge} > {f.__name__}{args}\")\n",
    "        m = m + 2\n",
    "        res = f(*args)\n",
    "        m = m - 2\n",
    "        print(f\"{marge} < {res}\")\n",
    "        return res\n",
    "    return f_trace"
   ],
   "cell_type": "code",
   "metadata": {},
   "execution_count": 7,
   "outputs": []
  },
  {
   "source": [
    "### Le rôle de la pile de récursion"
   ],
   "cell_type": "markdown",
   "metadata": {}
  },
  {
   "source": [
    "C'est l'endroit qui contient l'histoire du calcul. Lorsque Python évalue l'expression `n * fac(n - 1)`, il ne peut pas effectuer la multiplication par `n` avant d'avoir obtenu le résultat de l'appel récursif `fac(n - 1)`. Il va donc **mettre en attente** la multiplication par `n` dans une zone de la mémoire nommée **pile** -ou stack en anglais-. La taille de cette pile dépend de la machine ou de la version de Python utilisée et de son réglage par `sys.setrecursionlimit`.\n",
    "\n",
    "Avec le calcul recursif de la fonction`fac`, les calculs avaient lieu dans la pile de récursion et il n'y avait pas de variable contenant le résultat. Il existe un autre schéma récursif dans lequel le résultat est conservé dans un paramètre supplémentaire appelé **accumulateur**."
   ],
   "cell_type": "markdown",
   "metadata": {}
  },
  {
   "cell_type": "code",
   "execution_count": 8,
   "metadata": {},
   "outputs": [],
   "source": [
    "def fac_term(n):\n",
    "    return aux(1, n)\n",
    "\n",
    "def aux(p, q):\n",
    "    if q == 0: return p\n",
    "    return aux(p * q, q - 1) # La récurrence est dite \"terminale\""
   ]
  },
  {
   "source": [
    "La fonction `aux` est récursive mais avec une aprticularité : son appel récursif n'est suivi d'aucun autre calcul. On parle de **récursivité terminale** -tail recursion en anglais- ou de **quasi-itération**."
   ],
   "cell_type": "markdown",
   "metadata": {}
  },
  {
   "source": [
    "## La Complexité d'un Calcul"
   ],
   "cell_type": "markdown",
   "metadata": {}
  },
  {
   "source": [
    "Considérons une fonction $f$ représentant un algorithme s'éxecutant sur des données d'un domaine $E$. Une mesure d'eficacité (ou **complexité**) de $f$ est une fonction $\\hat{f} : E \\mapsto \\mathbb{N}$ qui a tout objet $x \\in E$ associe un entier $\\hat{f}(x)$ rerésentant le coût du calcul de $f(x)$, à savoir la quantité — temps, mémoire, nombre d'opérations — que l'on choisie de mesurer."
   ],
   "cell_type": "markdown",
   "metadata": {}
  },
  {
   "source": [
    "Très souvent, la complexité varie. Elle peut être linéaire pour certaines valeurs de $x \\in E$, quadratique pour d'autres, *etc*. A la suite de l'allemand Landau, les mathématiciens utilisent la notation $g \\in \\mathcal{O}(f)$ pour exprimer que la fonction $g$ est dominée par la fonction $f$, c'est-à-dire bornée par un multiple de $f$, donc vérifiant $g(n) \\leq kf(n)$ pour $n$ grand. Par exemple, un algorithme qui serait linéaire sur certaines données mais quadratiques sur d'autres serait en $\\mathcal{O}(n^{2})$, donc quadratique dans le pire des cas."
   ],
   "cell_type": "markdown",
   "metadata": {}
  },
  {
   "source": [
    "La majorité des calculs de complexité se font dans le pire des cas, mais il peut être intéressant d'obtenir la complexité en moyenne d'un algorithme. Il faut à cet effet considérer tous les cas possible et les pondérer par une distribution de probabilité."
   ],
   "cell_type": "markdown",
   "metadata": {}
  },
  {
   "source": [
    "Des pièges parfois subtils apparaissent dans les calculs de complexité. Par exemple, la multiplication de deux entiers est $\\mathcal{O}(1)$ pour le nombre d'opérations (une seule) mais pas pour le temps de calcul, qui dépend du nombre de chiffres des entiers à multiplier.\n",
    "Ce petit détail a pour conséquence fâcheuse que le calcul $n!$, s'il est bien linéaire $\\mathcal{O}(n)$ en le nombre de multiplications, est plus que quadratique en temps de calcul."
   ],
   "cell_type": "markdown",
   "metadata": {}
  },
  {
   "source": [
    "# Traitement du Texte : les Bases"
   ],
   "cell_type": "markdown",
   "metadata": {}
  },
  {
   "source": [
    "## Les Caractères Unicodes"
   ],
   "cell_type": "markdown",
   "metadata": {}
  },
  {
   "source": [
    "les cractères de toutes les langues du monde (et un peu plus : symboles mathématiques, musicaux, *_etc_*.) sont définis par le consortium **Unicode**, qui associe un numéro entier positif à chaque caractère. Par exemple, les caractères `A`, `a` ou `!` ont pour numéros respectifs 97, 65 et 33.\n",
    "Ces numéros se trouvent dans le *_Unicode Charts_* du site [unicode.org]. \n",
    "Le passage entre un caractère et son numéro Unicode se fait par les fonctions `ord` et `chr`.\n",
    "\n",
    "\n",
    "[unicode.org]: https://home.unicode.org/"
   ],
   "cell_type": "markdown",
   "metadata": {}
  },
  {
   "cell_type": "code",
   "execution_count": 9,
   "metadata": {},
   "outputs": [
    {
     "output_type": "execute_result",
     "data": {
      "text/plain": [
       "(65, 97, 33)"
      ]
     },
     "metadata": {},
     "execution_count": 9
    }
   ],
   "source": [
    "(ord(\"A\"), ord(\"a\"), ord(\"!\"))"
   ]
  },
  {
   "cell_type": "code",
   "execution_count": 10,
   "metadata": {},
   "outputs": [
    {
     "output_type": "execute_result",
     "data": {
      "text/plain": [
       "('A', 'a', '!')"
      ]
     },
     "metadata": {},
     "execution_count": 10
    }
   ],
   "source": [
    "(chr(65), chr(97), chr(33))"
   ]
  },
  {
   "source": [
    "Si l'on ne possède pas de méthode de saisie pour écrire certains caractère - comme les caractères chinois - dans un programme Python, il suffit de posséder son numéro unicode en hexadécimal(`22269` s'écrit aussi `0x56fd` en base 16) en faisant précéder les 4 chiffre héxadécimaux par \\u."
   ],
   "cell_type": "markdown",
   "metadata": {}
  },
  {
   "cell_type": "code",
   "execution_count": 11,
   "metadata": {},
   "outputs": [
    {
     "output_type": "execute_result",
     "data": {
      "text/plain": [
       "'0x56fd'"
      ]
     },
     "metadata": {},
     "execution_count": 11
    }
   ],
   "source": [
    "hex(22269)"
   ]
  },
  {
   "cell_type": "code",
   "execution_count": 12,
   "metadata": {},
   "outputs": [
    {
     "output_type": "execute_result",
     "data": {
      "text/plain": [
       "'国'"
      ]
     },
     "metadata": {},
     "execution_count": 12
    }
   ],
   "source": [
    "\"\\u56fd\""
   ]
  }
 ]
}